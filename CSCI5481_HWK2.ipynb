{
 "cells": [
  {
   "cell_type": "markdown",
   "metadata": {},
   "source": [
    "# CSCI 5481 Homework 2\n",
    "Prof: Knights\n",
    "\n",
    "Author: Christopher White\n",
    "\n",
    "Date: October 11, 2018"
   ]
  },
  {
   "cell_type": "code",
   "execution_count": 4,
   "metadata": {},
   "outputs": [],
   "source": [
    "import os\n",
    "from nwalign import *"
   ]
  },
  {
   "cell_type": "markdown",
   "metadata": {},
   "source": [
    "## Run Command Line"
   ]
  },
  {
   "cell_type": "code",
   "execution_count": 5,
   "metadata": {},
   "outputs": [],
   "source": [
    "!python nwalign.py -q './Homework 2 - sequences/Human_HOX.fa' -r './Homework 2 - sequences/Fly_HOX.fa' -o 'Output_Full_HOX.txt'"
   ]
  },
  {
   "cell_type": "code",
   "execution_count": 6,
   "metadata": {},
   "outputs": [],
   "source": [
    "!python nwalign.py -q './Homework 2 - sequences/Human_HOX.fa' -r './Homework 2 - sequences/Fly_HOX.fa' -o 'Output_Match_HOX.txt' -m './Homework 2 - sequences/Match_HOX.txt'"
   ]
  },
  {
   "cell_type": "code",
   "execution_count": 7,
   "metadata": {},
   "outputs": [],
   "source": [
    "!python nwalign.py -q './Homework 2 - sequences/Human_PAX.fa' -r './Homework 2 - sequences/Fly_PAX.fa' -o 'Output_Full_PAX.txt'"
   ]
  },
  {
   "cell_type": "code",
   "execution_count": 8,
   "metadata": {},
   "outputs": [],
   "source": [
    "!python nwalign.py -q './Homework 2 - sequences/Human_PAX.fa' -r './Homework 2 - sequences/Fly_PAX.fa' -o 'Output_Match_PAX.txt' -m './Homework 2 - sequences/Match_PAX.txt'"
   ]
  },
  {
   "cell_type": "markdown",
   "metadata": {},
   "source": [
    "## Read in Sequences and Calculate Scores"
   ]
  },
  {
   "cell_type": "code",
   "execution_count": 33,
   "metadata": {},
   "outputs": [
    {
     "name": "stdout",
     "output_type": "stream",
     "text": [
      "HOX Score: -494.0\n",
      "PAX Score: -850.0\n"
     ]
    }
   ],
   "source": [
    "human_HOX = read_seq('./Homework 2 - sequences/Human_HOX.fa')\n",
    "fly_HOX = read_seq('./Homework 2 - sequences/Fly_HOX.fa')\n",
    "human_PAX = read_seq('./Homework 2 - sequences/Human_PAX.fa')\n",
    "fly_PAX = read_seq('./Homework 2 - sequences/Fly_PAX.fa')\n",
    "\n",
    "score_hox,_,_ = find_alignments(human_HOX, fly_HOX)\n",
    "score_pax,_,_ = find_alignments(human_PAX, fly_PAX)\n",
    "\n",
    "print('HOX Score: {}'.format(score_hox))\n",
    "print('PAX Score: {}'.format(score_pax))"
   ]
  },
  {
   "cell_type": "markdown",
   "metadata": {},
   "source": [
    "## Run Randomized Alignments"
   ]
  },
  {
   "cell_type": "code",
   "execution_count": 41,
   "metadata": {},
   "outputs": [],
   "source": [
    "from random import sample\n",
    "import numpy as np\n",
    "import pandas as pd\n",
    "from multiprocessing import Pool"
   ]
  },
  {
   "cell_type": "code",
   "execution_count": 50,
   "metadata": {},
   "outputs": [],
   "source": [
    "# Create a wrapper for multiprocessing\n",
    "def random_permute_HOX(i):\n",
    "    score, _, _ = find_alignments(sample(human_HOX, k=len(human_HOX)),\n",
    "                                  sample(fly_HOX, k=len(fly_HOX)))\n",
    "    return score\n",
    "\n",
    "def random_permute_PAX(i):\n",
    "    score, _, _ = find_alignments(sample(human_PAX, k=len(human_PAX)),\n",
    "                                  sample(fly_PAX, k=len(fly_PAX)))\n",
    "    return score"
   ]
  },
  {
   "cell_type": "code",
   "execution_count": 63,
   "metadata": {},
   "outputs": [],
   "source": [
    "NUM_ITERS = 10000\n",
    "\n",
    "p = Pool(processes=8)\n",
    "score_hox_iter = p.map(random_permute_HOX, [i for i in range(NUM_ITERS)])\n",
    "score_pax_iter = p.map(random_permute_PAX, [i for i in range(NUM_ITERS)])\n",
    "\n",
    "score_table = pd.DataFrame({'HOX':score_hox_iter, 'PAX':score_pax_iter})"
   ]
  },
  {
   "cell_type": "code",
   "execution_count": 64,
   "metadata": {},
   "outputs": [
    {
     "data": {
      "text/html": [
       "<div>\n",
       "<style scoped>\n",
       "    .dataframe tbody tr th:only-of-type {\n",
       "        vertical-align: middle;\n",
       "    }\n",
       "\n",
       "    .dataframe tbody tr th {\n",
       "        vertical-align: top;\n",
       "    }\n",
       "\n",
       "    .dataframe thead th {\n",
       "        text-align: right;\n",
       "    }\n",
       "</style>\n",
       "<table border=\"1\" class=\"dataframe\">\n",
       "  <thead>\n",
       "    <tr style=\"text-align: right;\">\n",
       "      <th></th>\n",
       "      <th>HOX</th>\n",
       "      <th>PAX</th>\n",
       "    </tr>\n",
       "  </thead>\n",
       "  <tbody>\n",
       "    <tr>\n",
       "      <th>0</th>\n",
       "      <td>-636.0</td>\n",
       "      <td>-1300.0</td>\n",
       "    </tr>\n",
       "    <tr>\n",
       "      <th>1</th>\n",
       "      <td>-656.0</td>\n",
       "      <td>-1302.0</td>\n",
       "    </tr>\n",
       "    <tr>\n",
       "      <th>2</th>\n",
       "      <td>-624.0</td>\n",
       "      <td>-1313.0</td>\n",
       "    </tr>\n",
       "    <tr>\n",
       "      <th>3</th>\n",
       "      <td>-645.0</td>\n",
       "      <td>-1296.0</td>\n",
       "    </tr>\n",
       "    <tr>\n",
       "      <th>4</th>\n",
       "      <td>-629.0</td>\n",
       "      <td>-1308.0</td>\n",
       "    </tr>\n",
       "  </tbody>\n",
       "</table>\n",
       "</div>"
      ],
      "text/plain": [
       "     HOX     PAX\n",
       "0 -636.0 -1300.0\n",
       "1 -656.0 -1302.0\n",
       "2 -624.0 -1313.0\n",
       "3 -645.0 -1296.0\n",
       "4 -629.0 -1308.0"
      ]
     },
     "execution_count": 64,
     "metadata": {},
     "output_type": "execute_result"
    }
   ],
   "source": [
    "score_table.head()"
   ]
  },
  {
   "cell_type": "markdown",
   "metadata": {},
   "source": [
    "## Plot Histograms"
   ]
  },
  {
   "cell_type": "code",
   "execution_count": 53,
   "metadata": {},
   "outputs": [],
   "source": [
    "import matplotlib as mpl\n",
    "import matplotlib.pyplot as plt"
   ]
  },
  {
   "cell_type": "code",
   "execution_count": 69,
   "metadata": {},
   "outputs": [
    {
     "data": {
      "text/plain": [
       "<matplotlib.collections.LineCollection at 0x117843f28>"
      ]
     },
     "execution_count": 69,
     "metadata": {},
     "output_type": "execute_result"
    },
    {
     "data": {
      "image/png": "[encoded data removed]",
      "text/plain": [
       "<Figure size 432x288 with 1 Axes>"
      ]
     },
     "metadata": {},
     "output_type": "display_data"
    }
   ],
   "source": [
    "hax = score_table['HOX'].plot.hist(bins=100)\n",
    "hax.set_title('Histogram of HOX Random Sequence Permutations')\n",
    "hax.set_xlabel('Score')\n",
    "hax.vlines(score_hox, 0, 1, transform=hax.get_xaxis_transform(), colors='r')"
   ]
  },
  {
   "cell_type": "code",
   "execution_count": 70,
   "metadata": {},
   "outputs": [
    {
     "data": {
      "text/plain": [
       "<matplotlib.collections.LineCollection at 0x11792f4a8>"
      ]
     },
     "execution_count": 70,
     "metadata": {},
     "output_type": "execute_result"
    },
    {
     "data": {
      "image/png": "[encoded data removed]",
      "text/plain": [
       "<Figure size 432x288 with 1 Axes>"
      ]
     },
     "metadata": {},
     "output_type": "display_data"
    }
   ],
   "source": [
    "pax = score_table['PAX'].plot.hist(bins=100)\n",
    "pax.set_title('Histogram of PAX Random Sequence Permutations')\n",
    "pax.set_xlabel('Score')\n",
    "pax.vlines(score_pax, 0, 1, transform=pax.get_xaxis_transform(), colors='r')"
   ]
  },
  {
   "cell_type": "code",
   "execution_count": 67,
   "metadata": {},
   "outputs": [
    {
     "name": "stdout",
     "output_type": "stream",
     "text": [
      "HOX Mean: -640.4855\n",
      "HOX Std: 11.026737896806221\n",
      "PAX Mean: -1302.0103\n",
      "PAX Std: 14.26688993175573\n"
     ]
    }
   ],
   "source": [
    "print('HOX Mean: {}\\nHOX Std: {}'.format(score_table['HOX'].mean(), score_table['HOX'].std()))\n",
    "print('PAX Mean: {}\\nPAX Std: {}'.format(score_table['PAX'].mean(), score_table['PAX'].std()))"
   ]
  },
  {
   "cell_type": "code",
   "execution_count": 68,
   "metadata": {},
   "outputs": [],
   "source": [
    "p.close()"
   ]
  }
 ],
 "metadata": {
  "kernelspec": {
   "display_name": "Python [default]",
   "language": "python",
   "name": "python3"
  },
  "language_info": {
   "codemirror_mode": {
    "name": "ipython",
    "version": 3
   },
   "file_extension": ".py",
   "mimetype": "text/x-python",
   "name": "python",
   "nbconvert_exporter": "python",
   "pygments_lexer": "ipython3",
   "version": "3.6.5"
  }
 },
 "nbformat": 4,
 "nbformat_minor": 2
}
