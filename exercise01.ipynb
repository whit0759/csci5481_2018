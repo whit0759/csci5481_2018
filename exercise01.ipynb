{
 "cells": [
  {
   "cell_type": "markdown",
   "metadata": {},
   "source": [
    "# CSCI 5481\n",
    "\n",
    "## Homework 1\n",
    "## Christopher White\n",
    "## September 9, 2018"
   ]
  },
  {
   "cell_type": "code",
   "execution_count": 3,
   "metadata": {},
   "outputs": [
    {
     "name": "stdout",
     "output_type": "stream",
     "text": [
      "# Output file for CSCI 5481 Fall 2018 Exercise 1\n",
      "# Christopher White\n",
      "# September 19, 2018\n",
      "#\n",
      "# Usage:\n",
      "# exercise01.py -h\n",
      "import sys, os\n",
      "import argparse\n",
      "from subprocess import Popen, PIPE\n",
      "\n",
      "def make_arg_parser():\n",
      "    parser = argparse.ArgumentParser(prog='exercise01.py',\n",
      "                          # version=\"%prog 1.0\",\n",
      "                          formatter_class=argparse.ArgumentDefaultsHelpFormatter)\n",
      "    parser.add_argument(\"-q\",\"--query\",\n",
      "                      default=argparse.SUPPRESS,\n",
      "                      required=True,\n",
      "                      help=\"Path to query fasta [required]\") \n",
      "    parser.add_argument(\"-r\",\"--ref\",\n",
      "                      default=argparse.SUPPRESS,\n",
      "                      required=True,\n",
      "                      help=\"Path to reference fasta [required]\")\n",
      "    parser.add_argument(\"-t\",\"--taxonomy\",\n",
      "                      default=None,\n",
      "                      required=True,\n",
      "                      help=\"Path to taxonomy file [required]\")\n",
      "    parser.add_argument(\"-o\",\"--output\",\n",
      "                      default=None,\n",
      "                      required=True,\n",
      "                      help=\"Path to output file [required]\")\n",
      "    parser.add_argument(\"-c\",\"--command\",\n",
      "                      default='./burst',\n",
      "                      help=\"Path to BURST command\") \n",
      "    parser.add_argument(\"-V\",\"--verbose\",\n",
      "                      action=\"store_true\",\n",
      "                      help=\"Verbose output\")\n",
      "    return parser\n",
      "\n",
      "# Runs BURST to search query sequences against reference sequences\n",
      "def run_burst(query, ref, taxonomy, output, burst_cmd='./burst', verbose=False):\n",
      "    \"\"\"thread worker function\"\"\"\n",
      "\n",
      "    cmd = burst_cmd + ' -q ' + query + ' -r ' + ref + ' -t ' + taxonomy + ' -o ' + output\n",
      "    \n",
      "    if verbose:\n",
      "        print(cmd)     \n",
      "        \n",
      "    return run_command(cmd, verbose=verbose)\n",
      "\n",
      "# runs the given command and returns return value and output\n",
      "def run_command(cmd, verbose=False):\n",
      "    if verbose:\n",
      "        print(cmd)\n",
      "    proc = Popen(cmd,shell=True,universal_newlines=True,stdout=PIPE,stderr=PIPE)\n",
      "    print(proc.args)\n",
      "    stdout, stderr = proc.communicate()\n",
      "    return_value = proc.returncode\n",
      "    return return_value, stdout, stderr\n",
      "\n",
      "    \n",
      "if __name__ == '__main__':\n",
      "    parser = make_arg_parser()\n",
      "    args = parser.parse_args()\n",
      "\n",
      "    cmd = run_burst(args.query, args.ref, args.taxonomy, args.output, args.command, args.verbose)\n",
      "    try:\n",
      "        return_value, stdout, stderr = run_command(cmd, args.verbose)\n",
      "    except TypeError as e:\n",
      "        pass\n",
      "\n"
     ]
    }
   ],
   "source": [
    "%cat exercise01.py"
   ]
  },
  {
   "cell_type": "code",
   "execution_count": 7,
   "metadata": {},
   "outputs": [
    {
     "name": "stdout",
     "output_type": "stream",
     "text": [
      "./burst -q query.fna -r ref.fna -t taxonomy.txt -o output.txt\n",
      "./burst -q query.fna -r ref.fna -t taxonomy.txt -o output.txt\n",
      "./burst -q query.fna -r ref.fna -t taxonomy.txt -o output.txt\n",
      "('', ' --> Setting threads to 0\\nUsing up to AVX-128 with 0 threads.\\nParsed 130727 queries.\\nMax query len: 101, avg. divergence: 90.764586 (18.509566 w/o dupes)\\nParsed 5000 references.\\nThere are 5000 references and hence 312 clumps (+1)\\nAverage R pack length = 1423.881789\\nSearching best paths through 35294 unique queries...\\n\\nSearch Progress: [0.32%]\\nSearch Progress: [0.64%]\\nSearch Progress: [0.96%]\\nSearch Progress: [1.28%]\\nSearch Progress: [1.60%]\\nSearch Progress: [1.92%]\\nSearch Progress: [2.24%]\\nSearch Progress: [2.56%]\\nSearch Progress: [2.88%]\\nSearch Progress: [3.19%]\\nSearch Progress: [3.51%]\\nSearch Progress: [3.83%]\\nSearch Progress: [4.15%]\\nSearch Progress: [4.47%]\\nSearch Progress: [4.79%]\\nSearch Progress: [5.11%]\\nSearch Progress: [5.43%]\\nSearch Progress: [5.75%]\\nSearch Progress: [6.07%]\\nSearch Progress: [6.39%]\\nSearch Progress: [6.71%]\\nSearch Progress: [7.03%]\\nSearch Progress: [7.35%]\\nSearch Progress: [7.67%]\\nSearch Progress: [7.99%]\\nSearch Progress: [8.31%]\\nSearch Progress: [8.63%]\\nSearch Progress: [8.95%]\\nSearch Progress: [9.27%]\\nSearch Progress: [9.58%]\\nSearch Progress: [9.90%]\\nSearch Progress: [10.22%]\\nSearch Progress: [10.54%]\\nSearch Progress: [10.86%]\\nSearch Progress: [11.18%]\\nSearch Progress: [11.50%]\\nSearch Progress: [11.82%]\\nSearch Progress: [12.14%]\\nSearch Progress: [12.46%]\\nSearch Progress: [12.78%]\\nSearch Progress: [13.10%]\\nSearch Progress: [13.42%]\\nSearch Progress: [13.74%]\\nSearch Progress: [14.06%]\\nSearch Progress: [14.38%]\\nSearch Progress: [14.70%]\\nSearch Progress: [15.02%]\\nSearch Progress: [15.34%]\\nSearch Progress: [15.65%]\\nSearch Progress: [15.97%]\\nSearch Progress: [16.29%]\\nSearch Progress: [16.61%]\\nSearch Progress: [16.93%]\\nSearch Progress: [17.25%]\\nSearch Progress: [17.57%]\\nSearch Progress: [17.89%]\\nSearch Progress: [18.21%]\\nSearch Progress: [18.53%]\\nSearch Progress: [18.85%]\\nSearch Progress: [19.17%]\\nSearch Progress: [19.49%]\\nSearch Progress: [19.81%]\\nSearch Progress: [20.13%]\\nSearch Progress: [20.45%]\\nSearch Progress: [20.77%]\\nSearch Progress: [21.09%]\\nSearch Progress: [21.41%]\\nSearch Progress: [21.73%]\\nSearch Progress: [22.04%]\\nSearch Progress: [22.36%]\\nSearch Progress: [22.68%]\\nSearch Progress: [23.00%]\\nSearch Progress: [23.32%]\\nSearch Progress: [23.64%]\\nSearch Progress: [23.96%]\\nSearch Progress: [24.28%]\\nSearch Progress: [24.60%]\\nSearch Progress: [24.92%]\\nSearch Progress: [25.24%]\\nSearch Progress: [25.56%]\\nSearch Progress: [25.88%]\\nSearch Progress: [26.20%]\\nSearch Progress: [26.52%]\\nSearch Progress: [26.84%]\\nSearch Progress: [27.16%]\\nSearch Progress: [27.48%]\\nSearch Progress: [27.80%]\\nSearch Progress: [28.12%]\\nSearch Progress: [28.43%]\\nSearch Progress: [28.75%]\\nSearch Progress: [29.07%]\\nSearch Progress: [29.39%]\\nSearch Progress: [29.71%]\\nSearch Progress: [30.03%]\\nSearch Progress: [30.35%]\\nSearch Progress: [30.67%]\\nSearch Progress: [30.99%]\\nSearch Progress: [31.31%]\\nSearch Progress: [31.63%]\\nSearch Progress: [31.95%]\\nSearch Progress: [32.27%]\\nSearch Progress: [32.59%]\\nSearch Progress: [32.91%]\\nSearch Progress: [33.23%]\\nSearch Progress: [33.55%]\\nSearch Progress: [33.87%]\\nSearch Progress: [34.19%]\\nSearch Progress: [34.50%]\\nSearch Progress: [34.82%]\\nSearch Progress: [35.14%]\\nSearch Progress: [35.46%]\\nSearch Progress: [35.78%]\\nSearch Progress: [36.10%]\\nSearch Progress: [36.42%]\\nSearch Progress: [36.74%]\\nSearch Progress: [37.06%]\\nSearch Progress: [37.38%]\\nSearch Progress: [37.70%]\\nSearch Progress: [38.02%]\\nSearch Progress: [38.34%]\\nSearch Progress: [38.66%]\\nSearch Progress: [38.98%]\\nSearch Progress: [39.30%]\\nSearch Progress: [39.62%]\\nSearch Progress: [39.94%]\\nSearch Progress: [40.26%]\\nSearch Progress: [40.58%]\\nSearch Progress: [40.89%]\\nSearch Progress: [41.21%]\\nSearch Progress: [41.53%]\\nSearch Progress: [41.85%]\\nSearch Progress: [42.17%]\\nSearch Progress: [42.49%]\\nSearch Progress: [42.81%]\\nSearch Progress: [43.13%]\\nSearch Progress: [43.45%]\\nSearch Progress: [43.77%]\\nSearch Progress: [44.09%]\\nSearch Progress: [44.41%]\\nSearch Progress: [44.73%]\\nSearch Progress: [45.05%]\\nSearch Progress: [45.37%]\\nSearch Progress: [45.69%]\\nSearch Progress: [46.01%]\\nSearch Progress: [46.33%]\\nSearch Progress: [46.65%]\\nSearch Progress: [46.96%]\\nSearch Progress: [47.28%]\\nSearch Progress: [47.60%]\\nSearch Progress: [47.92%]\\nSearch Progress: [48.24%]\\nSearch Progress: [48.56%]\\nSearch Progress: [48.88%]\\nSearch Progress: [49.20%]\\nSearch Progress: [49.52%]\\nSearch Progress: [49.84%]\\nSearch Progress: [50.16%]\\nSearch Progress: [50.48%]\\nSearch Progress: [50.80%]\\nSearch Progress: [51.12%]\\nSearch Progress: [51.44%]\\nSearch Progress: [51.76%]\\nSearch Progress: [52.08%]\\nSearch Progress: [52.40%]\\nSearch Progress: [52.72%]\\nSearch Progress: [53.04%]\\nSearch Progress: [53.35%]\\nSearch Progress: [53.67%]\\nSearch Progress: [53.99%]\\nSearch Progress: [54.31%]\\nSearch Progress: [54.63%]\\nSearch Progress: [54.95%]\\nSearch Progress: [55.27%]\\nSearch Progress: [55.59%]\\nSearch Progress: [55.91%]\\nSearch Progress: [56.23%]\\nSearch Progress: [56.55%]\\nSearch Progress: [56.87%]\\nSearch Progress: [57.19%]\\nSearch Progress: [57.51%]\\nSearch Progress: [57.83%]\\nSearch Progress: [58.15%]\\nSearch Progress: [58.47%]\\nSearch Progress: [58.79%]\\nSearch Progress: [59.11%]\\nSearch Progress: [59.42%]\\nSearch Progress: [59.74%]\\nSearch Progress: [60.06%]\\nSearch Progress: [60.38%]\\nSearch Progress: [60.70%]\\nSearch Progress: [61.02%]\\nSearch Progress: [61.34%]\\nSearch Progress: [61.66%]\\nSearch Progress: [61.98%]\\nSearch Progress: [62.30%]\\nSearch Progress: [62.62%]\\nSearch Progress: [62.94%]\\nSearch Progress: [63.26%]\\nSearch Progress: [63.58%]\\nSearch Progress: [63.90%]\\nSearch Progress: [64.22%]\\nSearch Progress: [64.54%]\\nSearch Progress: [64.86%]\\nSearch Progress: [65.18%]\\nSearch Progress: [65.50%]\\nSearch Progress: [65.81%]\\nSearch Progress: [66.13%]\\nSearch Progress: [66.45%]\\nSearch Progress: [66.77%]\\nSearch Progress: [67.09%]\\nSearch Progress: [67.41%]\\nSearch Progress: [67.73%]\\nSearch Progress: [68.05%]\\nSearch Progress: [68.37%]\\nSearch Progress: [68.69%]\\nSearch Progress: [69.01%]\\nSearch Progress: [69.33%]\\nSearch Progress: [69.65%]\\nSearch Progress: [69.97%]\\nSearch Progress: [70.29%]\\nSearch Progress: [70.61%]\\nSearch Progress: [70.93%]\\nSearch Progress: [71.25%]\\nSearch Progress: [71.57%]\\nSearch Progress: [71.88%]\\nSearch Progress: [72.20%]\\nSearch Progress: [72.52%]\\nSearch Progress: [72.84%]\\nSearch Progress: [73.16%]\\nSearch Progress: [73.48%]\\nSearch Progress: [73.80%]\\nSearch Progress: [74.12%]\\nSearch Progress: [74.44%]\\nSearch Progress: [74.76%]\\nSearch Progress: [75.08%]\\nSearch Progress: [75.40%]\\nSearch Progress: [75.72%]\\nSearch Progress: [76.04%]\\nSearch Progress: [76.36%]\\nSearch Progress: [76.68%]\\nSearch Progress: [77.00%]\\nSearch Progress: [77.32%]\\nSearch Progress: [77.64%]\\nSearch Progress: [77.96%]\\nSearch Progress: [78.27%]\\nSearch Progress: [78.59%]\\nSearch Progress: [78.91%]\\nSearch Progress: [79.23%]\\nSearch Progress: [79.55%]\\nSearch Progress: [79.87%]\\nSearch Progress: [80.19%]\\nSearch Progress: [80.51%]\\nSearch Progress: [80.83%]\\nSearch Progress: [81.15%]\\nSearch Progress: [81.47%]\\nSearch Progress: [81.79%]\\nSearch Progress: [82.11%]\\nSearch Progress: [82.43%]\\nSearch Progress: [82.75%]\\nSearch Progress: [83.07%]\\nSearch Progress: [83.39%]\\nSearch Progress: [83.71%]\\nSearch Progress: [84.03%]\\nSearch Progress: [84.35%]\\nSearch Progress: [84.66%]\\nSearch Progress: [84.98%]\\nSearch Progress: [85.30%]\\nSearch Progress: [85.62%]\\nSearch Progress: [85.94%]\\nSearch Progress: [86.26%]\\nSearch Progress: [86.58%]\\nSearch Progress: [86.90%]\\nSearch Progress: [87.22%]\\nSearch Progress: [87.54%]\\nSearch Progress: [87.86%]\\nSearch Progress: [88.18%]\\nSearch Progress: [88.50%]\\nSearch Progress: [88.82%]\\nSearch Progress: [89.14%]\\nSearch Progress: [89.46%]\\nSearch Progress: [89.78%]\\nSearch Progress: [90.10%]\\nSearch Progress: [90.42%]\\nSearch Progress: [90.73%]\\nSearch Progress: [91.05%]\\nSearch Progress: [91.37%]\\nSearch Progress: [91.69%]\\nSearch Progress: [92.01%]\\nSearch Progress: [92.33%]\\nSearch Progress: [92.65%]\\nSearch Progress: [92.97%]\\nSearch Progress: [93.29%]\\nSearch Progress: [93.61%]\\nSearch Progress: [93.93%]\\nSearch Progress: [94.25%]\\nSearch Progress: [94.57%]\\nSearch Progress: [94.89%]\\nSearch Progress: [95.21%]\\nSearch Progress: [95.53%]\\nSearch Progress: [95.85%]\\nSearch Progress: [96.17%]\\nSearch Progress: [96.49%]\\nSearch Progress: [96.81%]\\nSearch Progress: [97.12%]\\nSearch Progress: [97.44%]\\nSearch Progress: [97.76%]\\nSearch Progress: [98.08%]\\nSearch Progress: [98.40%]\\nSearch Progress: [98.72%]\\nSearch Progress: [99.04%]\\nSearch Progress: [99.36%]\\nSearch Progress: [99.68%]\\nSearch Progress: [100.00%]\\nSearch Progress: [100.00%]\\nSearch complete. Consolidating results...\\n\\nAlignment time: 7.435120 seconds\\n', '')\n",
      "('', ' --> Setting threads to 0\\nUsing up to AVX-128 with 0 threads.\\nParsed 130727 queries.\\nMax query len: 101, avg. divergence: 90.764586 (18.509566 w/o dupes)\\nParsed 5000 references.\\nThere are 5000 references and hence 312 clumps (+1)\\nAverage R pack length = 1423.881789\\nSearching best paths through 35294 unique queries...\\n\\nSearch Progress: [0.32%]\\nSearch Progress: [0.64%]\\nSearch Progress: [0.96%]\\nSearch Progress: [1.28%]\\nSearch Progress: [1.60%]\\nSearch Progress: [1.92%]\\nSearch Progress: [2.24%]\\nSearch Progress: [2.56%]\\nSearch Progress: [2.88%]\\nSearch Progress: [3.19%]\\nSearch Progress: [3.51%]\\nSearch Progress: [3.83%]\\nSearch Progress: [4.15%]\\nSearch Progress: [4.47%]\\nSearch Progress: [4.79%]\\nSearch Progress: [5.11%]\\nSearch Progress: [5.43%]\\nSearch Progress: [5.75%]\\nSearch Progress: [6.07%]\\nSearch Progress: [6.39%]\\nSearch Progress: [6.71%]\\nSearch Progress: [7.03%]\\nSearch Progress: [7.35%]\\nSearch Progress: [7.67%]\\nSearch Progress: [7.99%]\\nSearch Progress: [8.31%]\\nSearch Progress: [8.63%]\\nSearch Progress: [8.95%]\\nSearch Progress: [9.27%]\\nSearch Progress: [9.58%]\\nSearch Progress: [9.90%]\\nSearch Progress: [10.22%]\\nSearch Progress: [10.54%]\\nSearch Progress: [10.86%]\\nSearch Progress: [11.18%]\\nSearch Progress: [11.50%]\\nSearch Progress: [11.82%]\\nSearch Progress: [12.14%]\\nSearch Progress: [12.46%]\\nSearch Progress: [12.78%]\\nSearch Progress: [13.10%]\\nSearch Progress: [13.42%]\\nSearch Progress: [13.74%]\\nSearch Progress: [14.06%]\\nSearch Progress: [14.38%]\\nSearch Progress: [14.70%]\\nSearch Progress: [15.02%]\\nSearch Progress: [15.34%]\\nSearch Progress: [15.65%]\\nSearch Progress: [15.97%]\\nSearch Progress: [16.29%]\\nSearch Progress: [16.61%]\\nSearch Progress: [16.93%]\\nSearch Progress: [17.25%]\\nSearch Progress: [17.57%]\\nSearch Progress: [17.89%]\\nSearch Progress: [18.21%]\\nSearch Progress: [18.53%]\\nSearch Progress: [18.85%]\\nSearch Progress: [19.17%]\\nSearch Progress: [19.49%]\\nSearch Progress: [19.81%]\\nSearch Progress: [20.13%]\\nSearch Progress: [20.45%]\\nSearch Progress: [20.77%]\\nSearch Progress: [21.09%]\\nSearch Progress: [21.41%]\\nSearch Progress: [21.73%]\\nSearch Progress: [22.04%]\\nSearch Progress: [22.36%]\\nSearch Progress: [22.68%]\\nSearch Progress: [23.00%]\\nSearch Progress: [23.32%]\\nSearch Progress: [23.64%]\\nSearch Progress: [23.96%]\\nSearch Progress: [24.28%]\\nSearch Progress: [24.60%]\\nSearch Progress: [24.92%]\\nSearch Progress: [25.24%]\\nSearch Progress: [25.56%]\\nSearch Progress: [25.88%]\\nSearch Progress: [26.20%]\\nSearch Progress: [26.52%]\\nSearch Progress: [26.84%]\\nSearch Progress: [27.16%]\\nSearch Progress: [27.48%]\\nSearch Progress: [27.80%]\\nSearch Progress: [28.12%]\\nSearch Progress: [28.43%]\\nSearch Progress: [28.75%]\\nSearch Progress: [29.07%]\\nSearch Progress: [29.39%]\\nSearch Progress: [29.71%]\\nSearch Progress: [30.03%]\\nSearch Progress: [30.35%]\\nSearch Progress: [30.67%]\\nSearch Progress: [30.99%]\\nSearch Progress: [31.31%]\\nSearch Progress: [31.63%]\\nSearch Progress: [31.95%]\\nSearch Progress: [32.27%]\\nSearch Progress: [32.59%]\\nSearch Progress: [32.91%]\\nSearch Progress: [33.23%]\\nSearch Progress: [33.55%]\\nSearch Progress: [33.87%]\\nSearch Progress: [34.19%]\\nSearch Progress: [34.50%]\\nSearch Progress: [34.82%]\\nSearch Progress: [35.14%]\\nSearch Progress: [35.46%]\\nSearch Progress: [35.78%]\\nSearch Progress: [36.10%]\\nSearch Progress: [36.42%]\\nSearch Progress: [36.74%]\\nSearch Progress: [37.06%]\\nSearch Progress: [37.38%]\\nSearch Progress: [37.70%]\\nSearch Progress: [38.02%]\\nSearch Progress: [38.34%]\\nSearch Progress: [38.66%]\\nSearch Progress: [38.98%]\\nSearch Progress: [39.30%]\\nSearch Progress: [39.62%]\\nSearch Progress: [39.94%]\\nSearch Progress: [40.26%]\\nSearch Progress: [40.58%]\\nSearch Progress: [40.89%]\\nSearch Progress: [41.21%]\\nSearch Progress: [41.53%]\\nSearch Progress: [41.85%]\\nSearch Progress: [42.17%]\\nSearch Progress: [42.49%]\\nSearch Progress: [42.81%]\\nSearch Progress: [43.13%]\\nSearch Progress: [43.45%]\\nSearch Progress: [43.77%]\\nSearch Progress: [44.09%]\\nSearch Progress: [44.41%]\\nSearch Progress: [44.73%]\\nSearch Progress: [45.05%]\\nSearch Progress: [45.37%]\\nSearch Progress: [45.69%]\\nSearch Progress: [46.01%]\\nSearch Progress: [46.33%]\\nSearch Progress: [46.65%]\\nSearch Progress: [46.96%]\\nSearch Progress: [47.28%]\\nSearch Progress: [47.60%]\\nSearch Progress: [47.92%]\\nSearch Progress: [48.24%]\\nSearch Progress: [48.56%]\\nSearch Progress: [48.88%]\\nSearch Progress: [49.20%]\\nSearch Progress: [49.52%]\\nSearch Progress: [49.84%]\\nSearch Progress: [50.16%]\\nSearch Progress: [50.48%]\\nSearch Progress: [50.80%]\\nSearch Progress: [51.12%]\\nSearch Progress: [51.44%]\\nSearch Progress: [51.76%]\\nSearch Progress: [52.08%]\\nSearch Progress: [52.40%]\\nSearch Progress: [52.72%]\\nSearch Progress: [53.04%]\\nSearch Progress: [53.35%]\\nSearch Progress: [53.67%]\\nSearch Progress: [53.99%]\\nSearch Progress: [54.31%]\\nSearch Progress: [54.63%]\\nSearch Progress: [54.95%]\\nSearch Progress: [55.27%]\\nSearch Progress: [55.59%]\\nSearch Progress: [55.91%]\\nSearch Progress: [56.23%]\\nSearch Progress: [56.55%]\\nSearch Progress: [56.87%]\\nSearch Progress: [57.19%]\\nSearch Progress: [57.51%]\\nSearch Progress: [57.83%]\\nSearch Progress: [58.15%]\\nSearch Progress: [58.47%]\\nSearch Progress: [58.79%]\\nSearch Progress: [59.11%]\\nSearch Progress: [59.42%]\\nSearch Progress: [59.74%]\\nSearch Progress: [60.06%]\\nSearch Progress: [60.38%]\\nSearch Progress: [60.70%]\\nSearch Progress: [61.02%]\\nSearch Progress: [61.34%]\\nSearch Progress: [61.66%]\\nSearch Progress: [61.98%]\\nSearch Progress: [62.30%]\\nSearch Progress: [62.62%]\\nSearch Progress: [62.94%]\\nSearch Progress: [63.26%]\\nSearch Progress: [63.58%]\\nSearch Progress: [63.90%]\\nSearch Progress: [64.22%]\\nSearch Progress: [64.54%]\\nSearch Progress: [64.86%]\\nSearch Progress: [65.18%]\\nSearch Progress: [65.50%]\\nSearch Progress: [65.81%]\\nSearch Progress: [66.13%]\\nSearch Progress: [66.45%]\\nSearch Progress: [66.77%]\\nSearch Progress: [67.09%]\\nSearch Progress: [67.41%]\\nSearch Progress: [67.73%]\\nSearch Progress: [68.05%]\\nSearch Progress: [68.37%]\\nSearch Progress: [68.69%]\\nSearch Progress: [69.01%]\\nSearch Progress: [69.33%]\\nSearch Progress: [69.65%]\\nSearch Progress: [69.97%]\\nSearch Progress: [70.29%]\\nSearch Progress: [70.61%]\\nSearch Progress: [70.93%]\\nSearch Progress: [71.25%]\\nSearch Progress: [71.57%]\\nSearch Progress: [71.88%]\\nSearch Progress: [72.20%]\\nSearch Progress: [72.52%]\\nSearch Progress: [72.84%]\\nSearch Progress: [73.16%]\\nSearch Progress: [73.48%]\\nSearch Progress: [73.80%]\\nSearch Progress: [74.12%]\\nSearch Progress: [74.44%]\\nSearch Progress: [74.76%]\\nSearch Progress: [75.08%]\\nSearch Progress: [75.40%]\\nSearch Progress: [75.72%]\\nSearch Progress: [76.04%]\\nSearch Progress: [76.36%]\\nSearch Progress: [76.68%]\\nSearch Progress: [77.00%]\\nSearch Progress: [77.32%]\\nSearch Progress: [77.64%]\\nSearch Progress: [77.96%]\\nSearch Progress: [78.27%]\\nSearch Progress: [78.59%]\\nSearch Progress: [78.91%]\\nSearch Progress: [79.23%]\\nSearch Progress: [79.55%]\\nSearch Progress: [79.87%]\\nSearch Progress: [80.19%]\\nSearch Progress: [80.51%]\\nSearch Progress: [80.83%]\\nSearch Progress: [81.15%]\\nSearch Progress: [81.47%]\\nSearch Progress: [81.79%]\\nSearch Progress: [82.11%]\\nSearch Progress: [82.43%]\\nSearch Progress: [82.75%]\\nSearch Progress: [83.07%]\\nSearch Progress: [83.39%]\\nSearch Progress: [83.71%]\\nSearch Progress: [84.03%]\\nSearch Progress: [84.35%]\\nSearch Progress: [84.66%]\\nSearch Progress: [84.98%]\\nSearch Progress: [85.30%]\\nSearch Progress: [85.62%]\\nSearch Progress: [85.94%]\\nSearch Progress: [86.26%]\\nSearch Progress: [86.58%]\\nSearch Progress: [86.90%]\\nSearch Progress: [87.22%]\\nSearch Progress: [87.54%]\\nSearch Progress: [87.86%]\\nSearch Progress: [88.18%]\\nSearch Progress: [88.50%]\\nSearch Progress: [88.82%]\\nSearch Progress: [89.14%]\\nSearch Progress: [89.46%]\\nSearch Progress: [89.78%]\\nSearch Progress: [90.10%]\\nSearch Progress: [90.42%]\\nSearch Progress: [90.73%]\\nSearch Progress: [91.05%]\\nSearch Progress: [91.37%]\\nSearch Progress: [91.69%]\\nSearch Progress: [92.01%]\\nSearch Progress: [92.33%]\\nSearch Progress: [92.65%]\\nSearch Progress: [92.97%]\\nSearch Progress: [93.29%]\\nSearch Progress: [93.61%]\\nSearch Progress: [93.93%]\\nSearch Progress: [94.25%]\\nSearch Progress: [94.57%]\\nSearch Progress: [94.89%]\\nSearch Progress: [95.21%]\\nSearch Progress: [95.53%]\\nSearch Progress: [95.85%]\\nSearch Progress: [96.17%]\\nSearch Progress: [96.49%]\\nSearch Progress: [96.81%]\\nSearch Progress: [97.12%]\\nSearch Progress: [97.44%]\\nSearch Progress: [97.76%]\\nSearch Progress: [98.08%]\\nSearch Progress: [98.40%]\\nSearch Progress: [98.72%]\\nSearch Progress: [99.04%]\\nSearch Progress: [99.36%]\\nSearch Progress: [99.68%]\\nSearch Progress: [100.00%]\\nSearch Progress: [100.00%]\\nSearch complete. Consolidating results...\\n\\nAlignment time: 7.435120 seconds\\n', '')\n"
     ]
    }
   ],
   "source": [
    "!python exercise01.py -q query.fna -r ref.fna -t taxonomy.txt -c ./burst -o output.txt -V"
   ]
  },
  {
   "cell_type": "code",
   "execution_count": 8,
   "metadata": {},
   "outputs": [
    {
     "name": "stdout",
     "output_type": "stream",
     "text": [
      "Interactive namespace is empty.\n"
     ]
    }
   ],
   "source": []
  },
  {
   "cell_type": "code",
   "execution_count": null,
   "metadata": {},
   "outputs": [],
   "source": []
  }
 ],
 "metadata": {
  "kernelspec": {
   "display_name": "Python 3",
   "language": "python",
   "name": "python3"
  },
  "language_info": {
   "codemirror_mode": {
    "name": "ipython",
    "version": 3
   },
   "file_extension": ".py",
   "mimetype": "text/x-python",
   "name": "python",
   "nbconvert_exporter": "python",
   "pygments_lexer": "ipython3",
   "version": "3.6.5"
  }
 },
 "nbformat": 4,
 "nbformat_minor": 2
}
